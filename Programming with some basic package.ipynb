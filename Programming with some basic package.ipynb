{
 "cells": [
  {
   "cell_type": "markdown",
   "id": "81db87f0",
   "metadata": {},
   "source": [
    "# Generate Random Numbers Using random Package"
   ]
  },
  {
   "cell_type": "code",
   "execution_count": 1,
   "id": "930178fe",
   "metadata": {},
   "outputs": [
    {
     "name": "stdout",
     "output_type": "stream",
     "text": [
      "Random integer: 5\n",
      "Random float: 0.4500580643962304\n"
     ]
    }
   ],
   "source": [
    "import random\n",
    "\n",
    "# Generate a random integer between 1 and 100\n",
    "random_integer = random.randint(1, 100)\n",
    "\n",
    "# Generate a random floating-point number between 0 and 1\n",
    "random_float = random.random()\n",
    "\n",
    "print(\"Random integer:\", random_integer)\n",
    "print(\"Random float:\", random_float)\n"
   ]
  },
  {
   "cell_type": "markdown",
   "id": "18769f1b",
   "metadata": {},
   "source": [
    "# Get the Current Date and Time Using datetime Package"
   ]
  },
  {
   "cell_type": "code",
   "execution_count": 2,
   "id": "af787fbc",
   "metadata": {},
   "outputs": [
    {
     "name": "stdout",
     "output_type": "stream",
     "text": [
      "Current date and time: 2024-09-23 12:35:43.544347\n"
     ]
    }
   ],
   "source": [
    "import datetime\n",
    "\n",
    "# Get the current date and time\n",
    "current_datetime = datetime.datetime.now()\n",
    "\n",
    "print(\"Current date and time:\", current_datetime)\n"
   ]
  },
  {
   "cell_type": "markdown",
   "id": "c8166753",
   "metadata": {},
   "source": [
    "# Calculate the Square Root of a Number Using math Package"
   ]
  },
  {
   "cell_type": "code",
   "execution_count": 3,
   "id": "359b3ee6",
   "metadata": {},
   "outputs": [
    {
     "name": "stdout",
     "output_type": "stream",
     "text": [
      "Square root of 16 is 4.0\n"
     ]
    }
   ],
   "source": [
    "import math\n",
    "\n",
    "# Input number\n",
    "number = 16\n",
    "\n",
    "# Calculate the square root\n",
    "sqrt = math.sqrt(number)\n",
    "\n",
    "print(\"Square root of\", number, \"is\", sqrt)\n"
   ]
  },
  {
   "cell_type": "markdown",
   "id": "6890af01",
   "metadata": {},
   "source": [
    "# Get the Current Working Directory Using os Package"
   ]
  },
  {
   "cell_type": "code",
   "execution_count": 4,
   "id": "24540975",
   "metadata": {},
   "outputs": [
    {
     "name": "stdout",
     "output_type": "stream",
     "text": [
      "Current working directory: C:\\Users\\SOUMYA\\Python from Scratch\n"
     ]
    }
   ],
   "source": [
    "import os\n",
    "\n",
    "# Get the current working directory\n",
    "current_directory = os.getcwd()\n",
    "\n",
    "print(\"Current working directory:\", current_directory)\n"
   ]
  },
  {
   "cell_type": "markdown",
   "id": "e326e7d8",
   "metadata": {},
   "source": [
    "# Create a Simple Bar Plot Using matplotlib Package"
   ]
  },
  {
   "cell_type": "code",
   "execution_count": 5,
   "id": "b08be6f8",
   "metadata": {},
   "outputs": [
    {
     "data": {
      "image/png": "[encoded data removed]",
      "text/plain": [
       "<Figure size 432x288 with 1 Axes>"
      ]
     },
     "metadata": {
      "needs_background": "light"
     },
     "output_type": "display_data"
    }
   ],
   "source": [
    "import matplotlib.pyplot as plt\n",
    "\n",
    "# Data\n",
    "categories = ['A', 'B', 'C', 'D']\n",
    "values = [4, 7, 1, 8]\n",
    "\n",
    "# Create a bar plot\n",
    "plt.bar(categories, values)\n",
    "\n",
    "# Add title and labels\n",
    "plt.title(\"Simple Bar Plot\")\n",
    "plt.xlabel(\"Categories\")\n",
    "plt.ylabel(\"Values\")\n",
    "\n",
    "# Show the plot\n",
    "plt.show()\n"
   ]
  },
  {
   "cell_type": "markdown",
   "id": "8a9e4194",
   "metadata": {},
   "source": [
    "# Parse a JSON String Using json Package"
   ]
  },
  {
   "cell_type": "code",
   "execution_count": 7,
   "id": "a44f1727",
   "metadata": {},
   "outputs": [
    {
     "name": "stdout",
     "output_type": "stream",
     "text": [
      "Parsed JSON data: {'name': 'Sam', 'age': 28, 'city': 'SU'}\n"
     ]
    }
   ],
   "source": [
    "import json\n",
    "\n",
    "# JSON string\n",
    "json_data = '{\"name\": \"Sam\", \"age\": 28, \"city\": \"SU\"}'\n",
    "\n",
    "# Parse JSON string\n",
    "parsed_data = json.loads(json_data)\n",
    "\n",
    "print(\"Parsed JSON data:\", parsed_data)\n"
   ]
  },
  {
   "cell_type": "markdown",
   "id": "08f01a4f",
   "metadata": {},
   "source": [
    "# Compress and Decompress Data Using zlib Package"
   ]
  },
  {
   "cell_type": "code",
   "execution_count": 8,
   "id": "c310edbb",
   "metadata": {},
   "outputs": [
    {
     "name": "stdout",
     "output_type": "stream",
     "text": [
      "Original data: b'Hello, world! Hello, world! Hello, world!'\n",
      "Compressed data: b'x\\x9c\\xf3H\\xcd\\xc9\\xc9\\xd7Q(\\xcf/\\xcaIQT\\xf0\\xc0\\xcd\\x03\\x00$\\xe5\\r\\xdc'\n",
      "Decompressed data: b'Hello, world! Hello, world! Hello, world!'\n"
     ]
    }
   ],
   "source": [
    "import zlib\n",
    "\n",
    "# Original data\n",
    "data = b\"Hello, world! Hello, world! Hello, world!\"\n",
    "\n",
    "# Compress the data\n",
    "compressed_data = zlib.compress(data)\n",
    "\n",
    "# Decompress the data\n",
    "decompressed_data = zlib.decompress(compressed_data)\n",
    "\n",
    "print(\"Original data:\", data)\n",
    "print(\"Compressed data:\", compressed_data)\n",
    "print(\"Decompressed data:\", decompressed_data)\n"
   ]
  },
  {
   "cell_type": "markdown",
   "id": "1072e52b",
   "metadata": {},
   "source": [
    "# Make a Simple HTTP GET Request Using requests Package"
   ]
  },
  {
   "cell_type": "code",
   "execution_count": 9,
   "id": "294d6881",
   "metadata": {},
   "outputs": [
    {
     "name": "stdout",
     "output_type": "stream",
     "text": [
      "Status code: 200\n",
      "Response text: {\"current_user_url\":\"https://api.github.com/user\",\"current_user_authorizations_html_url\":\"https://github.com/settings/connections/applications{/client_id}\",\"authorizations_url\":\"https://api.github.com/authorizations\",\"code_search_url\":\"https://api.github.com/search/code?q={query}{&page,per_page,sort,order}\",\"commit_search_url\":\"https://api.github.com/search/commits?q={query}{&page,per_page,sort,order}\",\"emails_url\":\"https://api.github.com/user/emails\",\"emojis_url\":\"https://api.github.com/emojis\",\"events_url\":\"https://api.github.com/events\",\"feeds_url\":\"https://api.github.com/feeds\",\"followers_url\":\"https://api.github.com/user/followers\",\"following_url\":\"https://api.github.com/user/following{/target}\",\"gists_url\":\"https://api.github.com/gists{/gist_id}\",\"hub_url\":\"https://api.github.com/hub\",\"issue_search_url\":\"https://api.github.com/search/issues?q={query}{&page,per_page,sort,order}\",\"issues_url\":\"https://api.github.com/issues\",\"keys_url\":\"https://api.github.com/user/keys\",\"label_search_url\":\"https://api.github.com/search/labels?q={query}&repository_id={repository_id}{&page,per_page}\",\"notifications_url\":\"https://api.github.com/notifications\",\"organization_url\":\"https://api.github.com/orgs/{org}\",\"organization_repositories_url\":\"https://api.github.com/orgs/{org}/repos{?type,page,per_page,sort}\",\"organization_teams_url\":\"https://api.github.com/orgs/{org}/teams\",\"public_gists_url\":\"https://api.github.com/gists/public\",\"rate_limit_url\":\"https://api.github.com/rate_limit\",\"repository_url\":\"https://api.github.com/repos/{owner}/{repo}\",\"repository_search_url\":\"https://api.github.com/search/repositories?q={query}{&page,per_page,sort,order}\",\"current_user_repositories_url\":\"https://api.github.com/user/repos{?type,page,per_page,sort}\",\"starred_url\":\"https://api.github.com/user/starred{/owner}{/repo}\",\"starred_gists_url\":\"https://api.github.com/gists/starred\",\"topic_search_url\":\"https://api.github.com/search/topics?q={query}{&page,per_page}\",\"user_url\":\"https://api.github.com/users/{user}\",\"user_organizations_url\":\"https://api.github.com/user/orgs\",\"user_repositories_url\":\"https://api.github.com/users/{user}/repos{?type,page,per_page,sort}\",\"user_search_url\":\"https://api.github.com/search/users?q={query}{&page,per_page,sort,order}\"}\n"
     ]
    }
   ],
   "source": [
    "import requests\n",
    "\n",
    "# URL to send the GET request to\n",
    "url = 'https://api.github.com'\n",
    "\n",
    "# Send the GET request\n",
    "response = requests.get(url)\n",
    "\n",
    "# Print the status code and response text\n",
    "print(\"Status code:\", response.status_code)\n",
    "print(\"Response text:\", response.text)\n"
   ]
  },
  {
   "cell_type": "markdown",
   "id": "5fde30a2",
   "metadata": {},
   "source": [
    "# Create a DataFrame Using pandas Package"
   ]
  },
  {
   "cell_type": "code",
   "execution_count": 10,
   "id": "11df8460",
   "metadata": {},
   "outputs": [
    {
     "name": "stdout",
     "output_type": "stream",
     "text": [
      "DataFrame:\n",
      "      Name  Age         City\n",
      "0  Sameer   28     New York\n",
      "1  Soumya   27  Los Angeles\n",
      "2     Sam   22      Chicago\n"
     ]
    }
   ],
   "source": [
    "import pandas as pd\n",
    "\n",
    "# Create a DataFrame\n",
    "data = {\n",
    "    'Name': ['Sameer', 'Soumya', 'Sam'],\n",
    "    'Age': [28, 27, 22],\n",
    "    'City': ['New York', 'Los Angeles', 'Chicago']\n",
    "}\n",
    "\n",
    "df = pd.DataFrame(data)\n",
    "\n",
    "print(\"DataFrame:\\n\", df)\n"
   ]
  },
  {
   "cell_type": "markdown",
   "id": "55bb3afc",
   "metadata": {},
   "source": [
    "# Create a Simple NumPy Array and Perform Operations"
   ]
  },
  {
   "cell_type": "code",
   "execution_count": 11,
   "id": "6a303610",
   "metadata": {},
   "outputs": [
    {
     "name": "stdout",
     "output_type": "stream",
     "text": [
      "Original array: [1 2 3 4 5]\n",
      "Sum of array elements: 15\n",
      "Mean of array elements: 3.0\n"
     ]
    }
   ],
   "source": [
    "import numpy as np\n",
    "\n",
    "# Create a NumPy array\n",
    "array = np.array([1, 2, 3, 4, 5])\n",
    "\n",
    "# Perform operations on the array\n",
    "sum_array = np.sum(array)\n",
    "mean_array = np.mean(array)\n",
    "\n",
    "print(\"Original array:\", array)\n",
    "print(\"Sum of array elements:\", sum_array)\n",
    "print(\"Mean of array elements:\", mean_array)\n"
   ]
  },
  {
   "cell_type": "markdown",
   "id": "860d7f58",
   "metadata": {},
   "source": [
    "# Read and Write Files Using os and Basic File Operations"
   ]
  },
  {
   "cell_type": "code",
   "execution_count": 12,
   "id": "b68aa0df",
   "metadata": {},
   "outputs": [
    {
     "name": "stdout",
     "output_type": "stream",
     "text": [
      "File content:\n",
      " Hello, World!\n",
      "This is a sample file.\n"
     ]
    }
   ],
   "source": [
    "import os\n",
    "\n",
    "# File path\n",
    "file_path = 'example.txt'\n",
    "\n",
    "# Write to a file\n",
    "with open(file_path, 'w') as file:\n",
    "    file.write(\"Hello, World!\\nThis is a sample file.\")\n",
    "\n",
    "# Read from the file\n",
    "with open(file_path, 'r') as file:\n",
    "    content = file.read()\n",
    "\n",
    "print(\"File content:\\n\", content)\n",
    "\n",
    "# Remove the file\n",
    "os.remove(file_path)"
   ]
  },
  {
   "cell_type": "markdown",
   "id": "4337ec10",
   "metadata": {},
   "source": [
    "# Use Regular Expressions with re Package"
   ]
  },
  {
   "cell_type": "code",
   "execution_count": 14,
   "id": "308c46fe",
   "metadata": {},
   "outputs": [
    {
     "name": "stdout",
     "output_type": "stream",
     "text": [
      "Matches found: ['ain', 'ain', 'ain', 'ain']\n"
     ]
    }
   ],
   "source": [
    "import re\n",
    "\n",
    "# Input string\n",
    "text = \"The rain in Spain stays mainly in the plain.\"\n",
    "\n",
    "# Find all occurrences of 'ain' in the text\n",
    "matches = re.findall(r'ain', text)\n",
    "\n",
    "print(\"Matches found:\", matches)\n"
   ]
  },
  {
   "cell_type": "markdown",
   "id": "ea2abca1",
   "metadata": {},
   "source": [
    "# Generate a Random Password Using secrets Package"
   ]
  },
  {
   "cell_type": "code",
   "execution_count": 15,
   "id": "22952dae",
   "metadata": {},
   "outputs": [
    {
     "name": "stdout",
     "output_type": "stream",
     "text": [
      "Generated password: e{rj[bCU(_P@\n"
     ]
    }
   ],
   "source": [
    "import secrets\n",
    "import string\n",
    "\n",
    "# Generate a random password\n",
    "password_length = 12\n",
    "characters = string.ascii_letters + string.digits + string.punctuation\n",
    "password = ''.join(secrets.choice(characters) for i in range(password_length))\n",
    "\n",
    "print(\"Generated password:\", password)"
   ]
  },
  {
   "cell_type": "markdown",
   "id": "ffcfcf2f",
   "metadata": {},
   "source": [
    "# Perform Arithmetic Operations Using decimal Package"
   ]
  },
  {
   "cell_type": "code",
   "execution_count": 16,
   "id": "94929272",
   "metadata": {},
   "outputs": [
    {
     "name": "stdout",
     "output_type": "stream",
     "text": [
      "Sum: 3.580\n",
      "Product: 2.896\n"
     ]
    }
   ],
   "source": [
    "from decimal import Decimal, getcontext\n",
    "\n",
    "# Set precision\n",
    "getcontext().prec = 4\n",
    "\n",
    "# Perform arithmetic operations\n",
    "num1 = Decimal('1.2345')\n",
    "num2 = Decimal('2.3456')\n",
    "\n",
    "sum_result = num1 + num2\n",
    "product_result = num1 * num2\n",
    "\n",
    "print(\"Sum:\", sum_result)\n",
    "print(\"Product:\", product_result)"
   ]
  },
  {
   "cell_type": "markdown",
   "id": "9473c7eb",
   "metadata": {},
   "source": [
    "# Encode and Decode Data Using base64 Package"
   ]
  },
  {
   "cell_type": "code",
   "execution_count": 17,
   "id": "c8957106",
   "metadata": {},
   "outputs": [
    {
     "name": "stdout",
     "output_type": "stream",
     "text": [
      "Encoded data: b'SGVsbG8sIFdvcmxkIQ=='\n",
      "Decoded data: Hello, World!\n"
     ]
    }
   ],
   "source": [
    "import base64\n",
    "\n",
    "# Original data\n",
    "data = \"Hello, World!\"\n",
    "\n",
    "# Encode the data\n",
    "encoded_data = base64.b64encode(data.encode())\n",
    "\n",
    "# Decode the data\n",
    "decoded_data = base64.b64decode(encoded_data).decode()\n",
    "\n",
    "print(\"Encoded data:\", encoded_data)\n",
    "print(\"Decoded data:\", decoded_data)"
   ]
  },
  {
   "cell_type": "markdown",
   "id": "2f7d8974",
   "metadata": {},
   "source": [
    "# Generate a Histogram Using matplotlib Package"
   ]
  },
  {
   "cell_type": "code",
   "execution_count": 18,
   "id": "2e03153a",
   "metadata": {},
   "outputs": [
    {
     "data": {
      "image/png": "[encoded data removed]",
      "text/plain": [
       "<Figure size 432x288 with 1 Axes>"
      ]
     },
     "metadata": {
      "needs_background": "light"
     },
     "output_type": "display_data"
    }
   ],
   "source": [
    "import matplotlib.pyplot as plt\n",
    "\n",
    "# Data\n",
    "data = [1, 2, 2, 3, 4, 4, 4, 5, 5, 6]\n",
    "\n",
    "# Create a histogram\n",
    "plt.hist(data, bins=6, edgecolor='black')\n",
    "\n",
    "# Add title and labels\n",
    "plt.title(\"Histogram\")\n",
    "plt.xlabel(\"Value\")\n",
    "plt.ylabel(\"Frequency\")\n",
    "\n",
    "# Show the plot\n",
    "plt.show()"
   ]
  },
  {
   "cell_type": "markdown",
   "id": "61830a06",
   "metadata": {},
   "source": [
    "# Calculate Basic Statistics Using collections Package"
   ]
  },
  {
   "cell_type": "code",
   "execution_count": 20,
   "id": "7ee37697",
   "metadata": {},
   "outputs": [
    {
     "name": "stdout",
     "output_type": "stream",
     "text": [
      "Mean: 3.5\n",
      "Median: 3.5\n",
      "Mode(s): [2, 3, 4, 5]\n"
     ]
    }
   ],
   "source": [
    "from collections import Counter\n",
    "\n",
    "# Example data\n",
    "data = [1, 2, 2, 3, 3, 4, 4, 5, 5, 6]\n",
    "\n",
    "# Calculate mean and median\n",
    "import statistics\n",
    "mean = statistics.mean(data)\n",
    "median = statistics.median(data)\n",
    "\n",
    "# Calculate mode(s) handling multiple modes\n",
    "data_counter = Counter(data)\n",
    "max_count = max(data_counter.values())\n",
    "modes = [k for k, v in data_counter.items() if v == max_count]\n",
    "\n",
    "print(\"Mean:\", mean)\n",
    "print(\"Median:\", median)\n",
    "print(\"Mode(s):\", modes)"
   ]
  },
  {
   "cell_type": "markdown",
   "id": "233d8e16",
   "metadata": {},
   "source": [
    "# Parse Command Line Arguments Using argparse Package"
   ]
  },
  {
   "cell_type": "code",
   "execution_count": 22,
   "id": "cc3a5199",
   "metadata": {},
   "outputs": [
    {
     "name": "stdout",
     "output_type": "stream",
     "text": [
      "Name: John\n",
      "Age: 25\n"
     ]
    }
   ],
   "source": [
    "import argparse\n",
    "import sys\n",
    "\n",
    "# Simulate command-line arguments (the first argument is the script name)\n",
    "sys.argv = ['script_name', 'John', '25']  # Simulate passing \"John\" as name and \"25\" as age\n",
    "\n",
    "# Create the parser\n",
    "parser = argparse.ArgumentParser(description=\"A simple argument parser.\")\n",
    "\n",
    "# Add arguments\n",
    "parser.add_argument('name', type=str, help=\"Name of the user\")\n",
    "parser.add_argument('age', type=int, help=\"Age of the user\")\n",
    "\n",
    "# Parse arguments\n",
    "args = parser.parse_args()\n",
    "\n",
    "# Output the results\n",
    "print(f\"Name: {args.name}\")\n",
    "print(f\"Age: {args.age}\")\n"
   ]
  },
  {
   "cell_type": "markdown",
   "id": "60daa5ef",
   "metadata": {},
   "source": [
    "# Perform File and Directory Operations Using shutil Package"
   ]
  },
  {
   "cell_type": "code",
   "execution_count": 24,
   "id": "f3e642a4",
   "metadata": {},
   "outputs": [
    {
     "name": "stdout",
     "output_type": "stream",
     "text": [
      "C:\\Users\\SOUMYA\\Python from Scratch\n"
     ]
    }
   ],
   "source": [
    "import os\n",
    "print(os.getcwd())  # Prints the current working directory\n"
   ]
  },
  {
   "cell_type": "code",
   "execution_count": 25,
   "id": "f1fb36f2",
   "metadata": {},
   "outputs": [
    {
     "name": "stdout",
     "output_type": "stream",
     "text": [
      "Text written and saved in 'example.txt'\n"
     ]
    }
   ],
   "source": [
    "# Write some text to a file and save it\n",
    "with open('example.txt', 'w') as file:\n",
    "    file.write(\"This is a sample text written to the file.\\n\")\n",
    "    file.write(\"Python makes file handling easy!\")\n",
    "\n",
    "print(\"Text written and saved in 'example.txt'\")\n"
   ]
  },
  {
   "cell_type": "code",
   "execution_count": 26,
   "id": "4f01bf13",
   "metadata": {},
   "outputs": [
    {
     "name": "stdout",
     "output_type": "stream",
     "text": [
      "File operations completed.\n"
     ]
    }
   ],
   "source": [
    "import shutil\n",
    "\n",
    "# Copy a file\n",
    "shutil.copy('example.txt', 'example_copy.txt')\n",
    "\n",
    "# Move the copied file\n",
    "shutil.move('example_copy.txt', 'moved_example_copy.txt')\n",
    "\n",
    "print(\"File operations completed.\")"
   ]
  },
  {
   "cell_type": "markdown",
   "id": "5db1aec4",
   "metadata": {},
   "source": [
    "# Work with JSON Files Using json Package"
   ]
  },
  {
   "cell_type": "code",
   "execution_count": 27,
   "id": "e78b9a48",
   "metadata": {},
   "outputs": [
    {
     "name": "stdout",
     "output_type": "stream",
     "text": [
      "Loaded JSON data: {'name': 'Sam', 'age': 30, 'city': 'New York'}\n"
     ]
    }
   ],
   "source": [
    "import json\n",
    "\n",
    "# JSON data\n",
    "data = {\n",
    "    \"name\": \"Sam\",\n",
    "    \"age\": 30,\n",
    "    \"city\": \"New York\"\n",
    "}\n",
    "\n",
    "# Write JSON data to a file\n",
    "with open('data.json', 'w') as file:\n",
    "    json.dump(data, file, indent=4)\n",
    "\n",
    "# Read JSON data from the file\n",
    "with open('data.json', 'r') as file:\n",
    "    loaded_data = json.load(file)\n",
    "\n",
    "print(\"Loaded JSON data:\", loaded_data)\n"
   ]
  },
  {
   "cell_type": "code",
   "execution_count": null,
   "id": "26973faf",
   "metadata": {},
   "outputs": [],
   "source": []
  }
 ],
 "metadata": {
  "kernelspec": {
   "display_name": "Python 3",
   "language": "python",
   "name": "python3"
  },
  "language_info": {
   "codemirror_mode": {
    "name": "ipython",
    "version": 3
   },
   "file_extension": ".py",
   "mimetype": "text/x-python",
   "name": "python",
   "nbconvert_exporter": "python",
   "pygments_lexer": "ipython3",
   "version": "3.6.13"
  }
 },
 "nbformat": 4,
 "nbformat_minor": 5
}
