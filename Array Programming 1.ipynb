{
 "cells": [
  {
   "cell_type": "markdown",
   "id": "7e7d5c8f",
   "metadata": {},
   "source": [
    "# Create and Print an Array"
   ]
  },
  {
   "cell_type": "code",
   "execution_count": 1,
   "id": "641d0c82",
   "metadata": {},
   "outputs": [
    {
     "name": "stdout",
     "output_type": "stream",
     "text": [
      "Array: [1, 2, 3, 4, 5]\n"
     ]
    }
   ],
   "source": [
    "# Create an array (list in Python)\n",
    "numbers = [1, 2, 3, 4, 5]\n",
    "\n",
    "# Print the array\n",
    "print(\"Array:\", numbers)"
   ]
  },
  {
   "cell_type": "markdown",
   "id": "0765c58c",
   "metadata": {},
   "source": [
    "# Access Elements of an Array"
   ]
  },
  {
   "cell_type": "code",
   "execution_count": 2,
   "id": "ddf932e5",
   "metadata": {},
   "outputs": [
    {
     "name": "stdout",
     "output_type": "stream",
     "text": [
      "First fruit: Apple\n",
      "Last fruit: Date\n"
     ]
    }
   ],
   "source": [
    "# Create an array\n",
    "fruits = [\"Apple\", \"Banana\", \"Cherry\", \"Date\"]\n",
    "\n",
    "# Access elements\n",
    "first_fruit = fruits[0]    # First element\n",
    "last_fruit = fruits[-1]    # Last element\n",
    "\n",
    "print(\"First fruit:\", first_fruit)\n",
    "print(\"Last fruit:\", last_fruit)"
   ]
  },
  {
   "cell_type": "markdown",
   "id": "a508fc11",
   "metadata": {},
   "source": [
    "# Modify Elements in an Array"
   ]
  },
  {
   "cell_type": "code",
   "execution_count": 3,
   "id": "a4958c22",
   "metadata": {},
   "outputs": [
    {
     "name": "stdout",
     "output_type": "stream",
     "text": [
      "Modified Array: ['Red', 'Purple', 'Blue', 'Yellow']\n"
     ]
    }
   ],
   "source": [
    "# Create an array\n",
    "colors = [\"Red\", \"Green\", \"Blue\", \"Yellow\"]\n",
    "\n",
    "# Modify the second element\n",
    "colors[1] = \"Purple\"\n",
    "\n",
    "# Print the modified array\n",
    "print(\"Modified Array:\", colors)"
   ]
  },
  {
   "cell_type": "markdown",
   "id": "4405059d",
   "metadata": {},
   "source": [
    "# Add Elements to an Array"
   ]
  },
  {
   "cell_type": "code",
   "execution_count": 4,
   "id": "75a389e2",
   "metadata": {},
   "outputs": [
    {
     "name": "stdout",
     "output_type": "stream",
     "text": [
      "Array after adding elements: ['Cat', 'Horse', 'Dog', 'Elephant', 'Giraffe']\n"
     ]
    }
   ],
   "source": [
    "# Create an array\n",
    "animals = [\"Cat\", \"Dog\", \"Elephant\"]\n",
    "\n",
    "# Add a new element to the end of the array\n",
    "animals.append(\"Giraffe\")\n",
    "\n",
    "# Add a new element at a specific index\n",
    "animals.insert(1, \"Horse\")\n",
    "\n",
    "# Print the updated array\n",
    "print(\"Array after adding elements:\", animals)"
   ]
  },
  {
   "cell_type": "markdown",
   "id": "8cc9bb21",
   "metadata": {},
   "source": [
    "# Remove Elements from an Array"
   ]
  },
  {
   "cell_type": "code",
   "execution_count": 5,
   "id": "491c0ba4",
   "metadata": {},
   "outputs": [
    {
     "name": "stdout",
     "output_type": "stream",
     "text": [
      "Array after removing elements: [10, 20, 50]\n"
     ]
    }
   ],
   "source": [
    "# Create an array\n",
    "numbers = [10, 20, 30, 40, 50]\n",
    "\n",
    "# Remove the element at index 2\n",
    "numbers.pop(2)\n",
    "\n",
    "# Remove the element with value 40\n",
    "numbers.remove(40)\n",
    "\n",
    "# Print the updated array\n",
    "print(\"Array after removing elements:\", numbers)"
   ]
  },
  {
   "cell_type": "markdown",
   "id": "3112dec0",
   "metadata": {},
   "source": [
    "# Find the Length of an Array"
   ]
  },
  {
   "cell_type": "code",
   "execution_count": 6,
   "id": "fadf1e42",
   "metadata": {},
   "outputs": [
    {
     "name": "stdout",
     "output_type": "stream",
     "text": [
      "Length of the array: 4\n"
     ]
    }
   ],
   "source": [
    "# Create an array\n",
    "languages = [\"Python\", \"Java\", \"C++\", \"JavaScript\"]\n",
    "\n",
    "# Find the length of the array\n",
    "length = len(languages)\n",
    "\n",
    "print(\"Length of the array:\", length)\n"
   ]
  },
  {
   "cell_type": "markdown",
   "id": "4a4f26fe",
   "metadata": {},
   "source": [
    "# Loop Through an Array"
   ]
  },
  {
   "cell_type": "code",
   "execution_count": 7,
   "id": "ffbb59c0",
   "metadata": {},
   "outputs": [
    {
     "name": "stdout",
     "output_type": "stream",
     "text": [
      "New York\n",
      "London\n",
      "Tokyo\n",
      "Sydney\n"
     ]
    }
   ],
   "source": [
    "# Create an array\n",
    "cities = [\"New York\", \"London\", \"Tokyo\", \"Sydney\"]\n",
    "\n",
    "# Loop through the array and print each element\n",
    "for city in cities:\n",
    "    print(city)\n"
   ]
  },
  {
   "cell_type": "markdown",
   "id": "413ebb63",
   "metadata": {},
   "source": [
    "# Sort an Array"
   ]
  },
  {
   "cell_type": "code",
   "execution_count": 8,
   "id": "420cbd69",
   "metadata": {},
   "outputs": [
    {
     "name": "stdout",
     "output_type": "stream",
     "text": [
      "Array sorted in descending order: [9, 6, 5, 4, 2, 1]\n"
     ]
    }
   ],
   "source": [
    "# Create an array\n",
    "numbers = [4, 2, 9, 1, 5, 6]\n",
    "\n",
    "# Sort the array in ascending order\n",
    "numbers.sort()\n",
    "\n",
    "# Sort the array in descending order\n",
    "numbers.sort(reverse=True)\n",
    "\n",
    "# Print the sorted array\n",
    "print(\"Array sorted in descending order:\", numbers)"
   ]
  },
  {
   "cell_type": "markdown",
   "id": "2c4e15e8",
   "metadata": {},
   "source": [
    "# Reverse an Array"
   ]
  },
  {
   "cell_type": "code",
   "execution_count": 9,
   "id": "c2983f98",
   "metadata": {},
   "outputs": [
    {
     "name": "stdout",
     "output_type": "stream",
     "text": [
      "Reversed array: ['D', 'C', 'B', 'A']\n"
     ]
    }
   ],
   "source": [
    "# Create an array\n",
    "letters = [\"A\", \"B\", \"C\", \"D\"]\n",
    "\n",
    "# Reverse the array\n",
    "letters.reverse()\n",
    "\n",
    "# Print the reversed array\n",
    "print(\"Reversed array:\", letters)"
   ]
  },
  {
   "cell_type": "markdown",
   "id": "8f786da3",
   "metadata": {},
   "source": [
    "# Find the Maximum and Minimum Elements in an Array"
   ]
  },
  {
   "cell_type": "code",
   "execution_count": 10,
   "id": "d1c9ce7a",
   "metadata": {},
   "outputs": [
    {
     "name": "stdout",
     "output_type": "stream",
     "text": [
      "Maximum value: 31\n",
      "Minimum value: 8\n"
     ]
    }
   ],
   "source": [
    "# Create an array\n",
    "numbers = [15, 22, 8, 19, 31]\n",
    "\n",
    "# Find the maximum and minimum elements\n",
    "max_value = max(numbers)\n",
    "min_value = min(numbers)\n",
    "\n",
    "print(\"Maximum value:\", max_value)\n",
    "print(\"Minimum value:\", min_value)\n"
   ]
  },
  {
   "cell_type": "markdown",
   "id": "314ec0b1",
   "metadata": {},
   "source": [
    "# Concatenate Two Arrays"
   ]
  },
  {
   "cell_type": "code",
   "execution_count": 11,
   "id": "0adea1e4",
   "metadata": {},
   "outputs": [
    {
     "name": "stdout",
     "output_type": "stream",
     "text": [
      "Concatenated array: [1, 2, 3, 4, 5, 6]\n"
     ]
    }
   ],
   "source": [
    "# Create two arrays\n",
    "array1 = [1, 2, 3]\n",
    "array2 = [4, 5, 6]\n",
    "\n",
    "# Concatenate the arrays\n",
    "combined_array = array1 + array2\n",
    "\n",
    "print(\"Concatenated array:\", combined_array)\n"
   ]
  },
  {
   "cell_type": "markdown",
   "id": "bf429806",
   "metadata": {},
   "source": [
    "# Find the Index of an Element in an Array"
   ]
  },
  {
   "cell_type": "code",
   "execution_count": 12,
   "id": "165b96a1",
   "metadata": {},
   "outputs": [
    {
     "name": "stdout",
     "output_type": "stream",
     "text": [
      "Index of 'Blue': 2\n"
     ]
    }
   ],
   "source": [
    "# Create an array\n",
    "colors = [\"Red\", \"Green\", \"Blue\", \"Yellow\"]\n",
    "\n",
    "# Find the index of \"Blue\"\n",
    "index_blue = colors.index(\"Blue\")\n",
    "\n",
    "print(\"Index of 'Blue':\", index_blue)\n"
   ]
  },
  {
   "cell_type": "markdown",
   "id": "7e0556e3",
   "metadata": {},
   "source": [
    "# Count Occurrences of an Element in an Array"
   ]
  },
  {
   "cell_type": "code",
   "execution_count": 13,
   "id": "1d1df9f3",
   "metadata": {},
   "outputs": [
    {
     "name": "stdout",
     "output_type": "stream",
     "text": [
      "Number of times 2 appears: 3\n"
     ]
    }
   ],
   "source": [
    "# Create an array\n",
    "numbers = [1, 2, 3, 2, 4, 2, 5]\n",
    "\n",
    "# Count the occurrences of the number 2\n",
    "count_of_twos = numbers.count(2)\n",
    "\n",
    "print(\"Number of times 2 appears:\", count_of_twos)\n"
   ]
  },
  {
   "cell_type": "markdown",
   "id": "889c1a0c",
   "metadata": {},
   "source": [
    "# List Comprehension to Modify Array Elements"
   ]
  },
  {
   "cell_type": "code",
   "execution_count": 14,
   "id": "7c4ee488",
   "metadata": {},
   "outputs": [
    {
     "name": "stdout",
     "output_type": "stream",
     "text": [
      "Squared numbers: [1, 4, 9, 16, 25]\n"
     ]
    }
   ],
   "source": [
    "# Create an array of numbers\n",
    "numbers = [1, 2, 3, 4, 5]\n",
    "\n",
    "# Square each number using list comprehension\n",
    "squared_numbers = [x**2 for x in numbers]\n",
    "\n",
    "print(\"Squared numbers:\", squared_numbers)\n"
   ]
  },
  {
   "cell_type": "markdown",
   "id": "638fb9c0",
   "metadata": {},
   "source": [
    "# Remove Duplicates from an Array"
   ]
  },
  {
   "cell_type": "code",
   "execution_count": 15,
   "id": "5c95cfbd",
   "metadata": {},
   "outputs": [
    {
     "name": "stdout",
     "output_type": "stream",
     "text": [
      "Array without duplicates: [1, 2, 3, 4, 5]\n"
     ]
    }
   ],
   "source": [
    "# Create an array with duplicates\n",
    "numbers = [1, 2, 2, 3, 4, 4, 5]\n",
    "\n",
    "# Remove duplicates by converting to a set and back to a list\n",
    "unique_numbers = list(set(numbers))\n",
    "\n",
    "print(\"Array without duplicates:\", unique_numbers)\n"
   ]
  },
  {
   "cell_type": "markdown",
   "id": "5007fb51",
   "metadata": {},
   "source": [
    "# Copy an Array"
   ]
  },
  {
   "cell_type": "code",
   "execution_count": 16,
   "id": "145175bd",
   "metadata": {},
   "outputs": [
    {
     "name": "stdout",
     "output_type": "stream",
     "text": [
      "Copied array: [10, 20, 30, 40]\n"
     ]
    }
   ],
   "source": [
    "# Create an array\n",
    "original_array = [10, 20, 30, 40]\n",
    "\n",
    "# Copy the array\n",
    "copied_array = original_array.copy()\n",
    "\n",
    "print(\"Copied array:\", copied_array)\n"
   ]
  },
  {
   "cell_type": "markdown",
   "id": "18c7e047",
   "metadata": {},
   "source": [
    "# Extend an Array"
   ]
  },
  {
   "cell_type": "code",
   "execution_count": 17,
   "id": "f60a42c4",
   "metadata": {},
   "outputs": [
    {
     "name": "stdout",
     "output_type": "stream",
     "text": [
      "Extended array: [1, 2, 3, 4, 5, 6]\n"
     ]
    }
   ],
   "source": [
    "# Create an array\n",
    "numbers = [1, 2, 3]\n",
    "\n",
    "# Extend the array with another array\n",
    "numbers.extend([4, 5, 6])\n",
    "\n",
    "print(\"Extended array:\", numbers)\n"
   ]
  },
  {
   "cell_type": "markdown",
   "id": "4f3f5787",
   "metadata": {},
   "source": [
    "# Find the Sum of Array Elements"
   ]
  },
  {
   "cell_type": "code",
   "execution_count": 18,
   "id": "6a3767d5",
   "metadata": {},
   "outputs": [
    {
     "name": "stdout",
     "output_type": "stream",
     "text": [
      "Sum of array elements: 100\n"
     ]
    }
   ],
   "source": [
    "# Create an array\n",
    "numbers = [10, 20, 30, 40]\n",
    "\n",
    "# Calculate the sum of the elements\n",
    "total_sum = sum(numbers)\n",
    "\n",
    "print(\"Sum of array elements:\", total_sum)"
   ]
  },
  {
   "cell_type": "markdown",
   "id": "c69517ee",
   "metadata": {},
   "source": [
    "# Find the Product of Array Elements"
   ]
  },
  {
   "cell_type": "code",
   "execution_count": 20,
   "id": "5a45d112",
   "metadata": {},
   "outputs": [
    {
     "name": "stdout",
     "output_type": "stream",
     "text": [
      "Product of array elements: 120\n"
     ]
    }
   ],
   "source": [
    "# Example array\n",
    "numbers = [1, 2, 3, 4, 5]\n",
    "\n",
    "# Initialize product\n",
    "product = 1\n",
    "\n",
    "# Calculate product using a loop\n",
    "for num in numbers:\n",
    "    product *= num\n",
    "\n",
    "print(\"Product of array elements:\", product)"
   ]
  },
  {
   "cell_type": "markdown",
   "id": "30030911",
   "metadata": {},
   "source": [
    "# Find the Average of Array Elements"
   ]
  },
  {
   "cell_type": "code",
   "execution_count": 21,
   "id": "4060aa08",
   "metadata": {},
   "outputs": [
    {
     "name": "stdout",
     "output_type": "stream",
     "text": [
      "Average of array elements: 25.0\n"
     ]
    }
   ],
   "source": [
    "# Create an array\n",
    "numbers = [10, 20, 30, 40]\n",
    "\n",
    "# Calculate the average\n",
    "average = sum(numbers) / len(numbers)\n",
    "\n",
    "print(\"Average of array elements:\", average)\n"
   ]
  },
  {
   "cell_type": "code",
   "execution_count": null,
   "id": "caa157fb",
   "metadata": {},
   "outputs": [],
   "source": []
  }
 ],
 "metadata": {
  "kernelspec": {
   "display_name": "Python 3",
   "language": "python",
   "name": "python3"
  },
  "language_info": {
   "codemirror_mode": {
    "name": "ipython",
    "version": 3
   },
   "file_extension": ".py",
   "mimetype": "text/x-python",
   "name": "python",
   "nbconvert_exporter": "python",
   "pygments_lexer": "ipython3",
   "version": "3.6.13"
  }
 },
 "nbformat": 4,
 "nbformat_minor": 5
}
