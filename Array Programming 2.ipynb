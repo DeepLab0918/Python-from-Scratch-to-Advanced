{
 "cells": [
  {
   "cell_type": "markdown",
   "id": "7bd7ba31",
   "metadata": {},
   "source": [
    "# Create and Print a 2D Array"
   ]
  },
  {
   "cell_type": "code",
   "execution_count": 1,
   "id": "a712be56",
   "metadata": {},
   "outputs": [
    {
     "name": "stdout",
     "output_type": "stream",
     "text": [
      "[1, 2, 3]\n",
      "[4, 5, 6]\n",
      "[7, 8, 9]\n"
     ]
    }
   ],
   "source": [
    "# Create a 2D array (matrix)\n",
    "matrix = [\n",
    "    [1, 2, 3],\n",
    "    [4, 5, 6],\n",
    "    [7, 8, 9]\n",
    "]\n",
    "\n",
    "# Print the 2D array\n",
    "for row in matrix:\n",
    "    print(row)"
   ]
  },
  {
   "cell_type": "markdown",
   "id": "f5f2f269",
   "metadata": {},
   "source": [
    "# Access Elements in a 2D Array"
   ]
  },
  {
   "cell_type": "code",
   "execution_count": 2,
   "id": "0eb790dc",
   "metadata": {},
   "outputs": [
    {
     "name": "stdout",
     "output_type": "stream",
     "text": [
      "Accessed element: 60\n"
     ]
    }
   ],
   "source": [
    "# Create a 2D array\n",
    "matrix = [\n",
    "    [10, 20, 30],\n",
    "    [40, 50, 60],\n",
    "    [70, 80, 90]\n",
    "]\n",
    "\n",
    "# Access specific elements\n",
    "element = matrix[1][2]  # Access the element in the second row and third column (60)\n",
    "\n",
    "print(\"Accessed element:\", element)"
   ]
  },
  {
   "cell_type": "markdown",
   "id": "d86bb276",
   "metadata": {},
   "source": [
    "# Modify an Element in a 2D Array"
   ]
  },
  {
   "cell_type": "code",
   "execution_count": 3,
   "id": "6ded9c4b",
   "metadata": {},
   "outputs": [
    {
     "name": "stdout",
     "output_type": "stream",
     "text": [
      "[1, 20, 3]\n",
      "[4, 5, 6]\n",
      "[7, 8, 9]\n"
     ]
    }
   ],
   "source": [
    "# Create a 2D array\n",
    "matrix = [\n",
    "    [1, 2, 3],\n",
    "    [4, 5, 6],\n",
    "    [7, 8, 9]\n",
    "]\n",
    "\n",
    "# Modify the element in the first row and second column\n",
    "matrix[0][1] = 20\n",
    "\n",
    "# Print the modified 2D array\n",
    "for row in matrix:\n",
    "    print(row)"
   ]
  },
  {
   "cell_type": "markdown",
   "id": "d2f24835",
   "metadata": {},
   "source": [
    "# Add Two 2D Arrays (Matrix Addition)"
   ]
  },
  {
   "cell_type": "code",
   "execution_count": 4,
   "id": "ced27b4b",
   "metadata": {},
   "outputs": [
    {
     "name": "stdout",
     "output_type": "stream",
     "text": [
      "[10, 10, 10]\n",
      "[10, 10, 10]\n",
      "[10, 10, 10]\n"
     ]
    }
   ],
   "source": [
    "# Create two 2D arrays\n",
    "matrix1 = [\n",
    "    [1, 2, 3],\n",
    "    [4, 5, 6],\n",
    "    [7, 8, 9]\n",
    "]\n",
    "\n",
    "matrix2 = [\n",
    "    [9, 8, 7],\n",
    "    [6, 5, 4],\n",
    "    [3, 2, 1]\n",
    "]\n",
    "\n",
    "# Add the two matrices\n",
    "result = []\n",
    "for i in range(len(matrix1)):\n",
    "    row = []\n",
    "    for j in range(len(matrix1[0])):\n",
    "        row.append(matrix1[i][j] + matrix2[i][j])\n",
    "    result.append(row)\n",
    "\n",
    "# Print the result\n",
    "for row in result:\n",
    "    print(row)"
   ]
  },
  {
   "cell_type": "markdown",
   "id": "4442d474",
   "metadata": {},
   "source": [
    "# Multiply Two 2D Arrays (Matrix Multiplication)"
   ]
  },
  {
   "cell_type": "code",
   "execution_count": 5,
   "id": "64f4f3cb",
   "metadata": {},
   "outputs": [
    {
     "name": "stdout",
     "output_type": "stream",
     "text": [
      "[19, 22]\n",
      "[43, 50]\n"
     ]
    }
   ],
   "source": [
    "# Create two 2D arrays\n",
    "matrix1 = [\n",
    "    [1, 2],\n",
    "    [3, 4]\n",
    "]\n",
    "\n",
    "matrix2 = [\n",
    "    [5, 6],\n",
    "    [7, 8]\n",
    "]\n",
    "\n",
    "# Multiply the two matrices\n",
    "result = [\n",
    "    [0, 0],\n",
    "    [0, 0]\n",
    "]\n",
    "\n",
    "# Perform matrix multiplication\n",
    "for i in range(len(matrix1)):\n",
    "    for j in range(len(matrix2[0])):\n",
    "        for k in range(len(matrix2)):\n",
    "            result[i][j] += matrix1[i][k] * matrix2[k][j]\n",
    "\n",
    "# Print the result\n",
    "for row in result:\n",
    "    print(row)"
   ]
  },
  {
   "cell_type": "markdown",
   "id": "ddaf79cf",
   "metadata": {},
   "source": [
    "# Transpose of a 2D Array"
   ]
  },
  {
   "cell_type": "code",
   "execution_count": 6,
   "id": "4326546a",
   "metadata": {},
   "outputs": [
    {
     "name": "stdout",
     "output_type": "stream",
     "text": [
      "[1, 4, 7]\n",
      "[2, 5, 8]\n",
      "[3, 6, 9]\n"
     ]
    }
   ],
   "source": [
    "# Create a 2D array\n",
    "matrix = [\n",
    "    [1, 2, 3],\n",
    "    [4, 5, 6],\n",
    "    [7, 8, 9]\n",
    "]\n",
    "\n",
    "# Transpose the matrix\n",
    "transpose = []\n",
    "for i in range(len(matrix[0])):\n",
    "    row = []\n",
    "    for j in range(len(matrix)):\n",
    "        row.append(matrix[j][i])\n",
    "    transpose.append(row)\n",
    "\n",
    "# Print the transposed matrix\n",
    "for row in transpose:\n",
    "    print(row)"
   ]
  },
  {
   "cell_type": "markdown",
   "id": "8ed28498",
   "metadata": {},
   "source": [
    "# Flatten a 2D Array into a 1D Array"
   ]
  },
  {
   "cell_type": "code",
   "execution_count": 7,
   "id": "8759d88a",
   "metadata": {},
   "outputs": [
    {
     "name": "stdout",
     "output_type": "stream",
     "text": [
      "Flattened array: [1, 2, 3, 4, 5, 6, 7, 8, 9]\n"
     ]
    }
   ],
   "source": [
    "# Create a 2D array\n",
    "matrix = [\n",
    "    [1, 2, 3],\n",
    "    [4, 5, 6],\n",
    "    [7, 8, 9]\n",
    "]\n",
    "\n",
    "# Flatten the matrix into a 1D array\n",
    "flattened = [element for row in matrix for element in row]\n",
    "\n",
    "print(\"Flattened array:\", flattened)\n"
   ]
  },
  {
   "cell_type": "markdown",
   "id": "f788f347",
   "metadata": {},
   "source": [
    "# Calculate the Sum of Each Row in a 2D Array"
   ]
  },
  {
   "cell_type": "code",
   "execution_count": 8,
   "id": "7008f1b6",
   "metadata": {},
   "outputs": [
    {
     "name": "stdout",
     "output_type": "stream",
     "text": [
      "Sum of each row: [6, 15, 24]\n"
     ]
    }
   ],
   "source": [
    "# Create a 2D array\n",
    "matrix = [\n",
    "    [1, 2, 3],\n",
    "    [4, 5, 6],\n",
    "    [7, 8, 9]\n",
    "]\n",
    "\n",
    "# Calculate the sum of each row\n",
    "row_sums = [sum(row) for row in matrix]\n",
    "\n",
    "print(\"Sum of each row:\", row_sums)"
   ]
  },
  {
   "cell_type": "markdown",
   "id": "65632451",
   "metadata": {},
   "source": [
    "# Calculate the Sum of Each Column in a 2D Array"
   ]
  },
  {
   "cell_type": "code",
   "execution_count": 9,
   "id": "553900b0",
   "metadata": {},
   "outputs": [
    {
     "name": "stdout",
     "output_type": "stream",
     "text": [
      "Sum of each column: [12, 15, 18]\n"
     ]
    }
   ],
   "source": [
    "# Create a 2D array\n",
    "matrix = [\n",
    "    [1, 2, 3],\n",
    "    [4, 5, 6],\n",
    "    [7, 8, 9]\n",
    "]\n",
    "\n",
    "# Calculate the sum of each column\n",
    "column_sums = [sum(row[i] for row in matrix) for i in range(len(matrix[0]))]\n",
    "\n",
    "print(\"Sum of each column:\", column_sums)"
   ]
  },
  {
   "cell_type": "markdown",
   "id": "023cf3f7",
   "metadata": {},
   "source": [
    "# Check if a Matrix is an Identity Matrix"
   ]
  },
  {
   "cell_type": "code",
   "execution_count": 13,
   "id": "d66dcdd4",
   "metadata": {},
   "outputs": [
    {
     "name": "stdout",
     "output_type": "stream",
     "text": [
      "The matrix is an identity matrix.\n"
     ]
    }
   ],
   "source": [
    "# Create a 2D array (identity matrix)\n",
    "matrix = [\n",
    "    [1, 0, 0],\n",
    "    [0, 1, 0],\n",
    "    [0, 0, 1]\n",
    "]\n",
    "\n",
    "# Check if the matrix is an identity matrix\n",
    "is_identity = True\n",
    "for i in range(len(matrix)):\n",
    "    for j in range(len(matrix)):\n",
    "        if i == j and matrix[i][j] != 1:\n",
    "            is_identity = False\n",
    "        elif i != j and matrix[i][j] != 0:\n",
    "            is_identity = False\n",
    "\n",
    "if is_identity:\n",
    "    print(\"The matrix is an identity matrix.\")\n",
    "else:\n",
    "    print(\"The matrix is not an identity matrix.\")\n"
   ]
  },
  {
   "cell_type": "markdown",
   "id": "4d098a38",
   "metadata": {},
   "source": [
    "# Check for Symmetric Matrix"
   ]
  },
  {
   "cell_type": "code",
   "execution_count": 12,
   "id": "4e662514",
   "metadata": {},
   "outputs": [
    {
     "name": "stdout",
     "output_type": "stream",
     "text": [
      "The matrix is symmetric.\n"
     ]
    }
   ],
   "source": [
    "# Create a 2D array\n",
    "matrix = [\n",
    "    [1, 2, 3],\n",
    "    [2, 4, 5],\n",
    "    [3, 5, 6]\n",
    "]\n",
    "\n",
    "# Check if the matrix is symmetric\n",
    "is_symmetric = True\n",
    "for i in range(len(matrix)):\n",
    "    for j in range(len(matrix)):\n",
    "        if matrix[i][j] != matrix[j][i]:\n",
    "            is_symmetric = False\n",
    "            break\n",
    "\n",
    "if is_symmetric:\n",
    "    print(\"The matrix is symmetric.\")\n",
    "else:\n",
    "    print(\"The matrix is not symmetric.\")\n"
   ]
  },
  {
   "cell_type": "markdown",
   "id": "baf181b9",
   "metadata": {},
   "source": [
    "# Sum of Diagonal Elements in a 2D Array"
   ]
  },
  {
   "cell_type": "code",
   "execution_count": 14,
   "id": "afac89cc",
   "metadata": {},
   "outputs": [
    {
     "name": "stdout",
     "output_type": "stream",
     "text": [
      "Sum of diagonal elements: 21\n"
     ]
    }
   ],
   "source": [
    "# Create a 2D array\n",
    "matrix = [\n",
    "    [5, 2, 3],\n",
    "    [4, 7, 6],\n",
    "    [7, 8, 9]\n",
    "]\n",
    "\n",
    "# Calculate the sum of the diagonal elements\n",
    "diagonal_sum = sum(matrix[i][i] for i in range(len(matrix)))\n",
    "\n",
    "print(\"Sum of diagonal elements:\", diagonal_sum)"
   ]
  },
  {
   "cell_type": "markdown",
   "id": "43ad5d1b",
   "metadata": {},
   "source": [
    "# Upper Triangular Matrix"
   ]
  },
  {
   "cell_type": "code",
   "execution_count": 15,
   "id": "700e815e",
   "metadata": {},
   "outputs": [
    {
     "name": "stdout",
     "output_type": "stream",
     "text": [
      "[1, 2, 3]\n",
      "[0, 5, 6]\n",
      "[0, 0, 9]\n"
     ]
    }
   ],
   "source": [
    "# Create a 2D array\n",
    "matrix = [\n",
    "    [1, 2, 3],\n",
    "    [4, 5, 6],\n",
    "    [7, 8, 9]\n",
    "]\n",
    "\n",
    "# Convert to an upper triangular matrix\n",
    "upper_triangular = [[matrix[i][j] if j >= i else 0 for j in range(len(matrix))] for i in range(len(matrix))]\n",
    "\n",
    "# Print the upper triangular matrix\n",
    "for row in upper_triangular:\n",
    "    print(row)\n"
   ]
  },
  {
   "cell_type": "markdown",
   "id": "744db764",
   "metadata": {},
   "source": [
    "# Lower Triangular Matrix"
   ]
  },
  {
   "cell_type": "code",
   "execution_count": 16,
   "id": "f22c8f2f",
   "metadata": {},
   "outputs": [
    {
     "name": "stdout",
     "output_type": "stream",
     "text": [
      "[1, 0, 0]\n",
      "[4, 5, 0]\n",
      "[7, 8, 9]\n"
     ]
    }
   ],
   "source": [
    "# Create a 2D array\n",
    "matrix = [\n",
    "    [1, 2, 3],\n",
    "    [4, 5, 6],\n",
    "    [7, 8, 9]\n",
    "]\n",
    "\n",
    "# Convert to a lower triangular matrix\n",
    "lower_triangular = [[matrix[i][j] if j <= i else 0 for j in range(len(matrix))] for i in range(len(matrix))]\n",
    "\n",
    "# Print the lower triangular matrix\n",
    "for row in lower_triangular:\n",
    "    print(row)\n"
   ]
  },
  {
   "cell_type": "markdown",
   "id": "79296cf2",
   "metadata": {},
   "source": [
    "# Calculate the Trace of a Matrix"
   ]
  },
  {
   "cell_type": "code",
   "execution_count": 17,
   "id": "d472282c",
   "metadata": {},
   "outputs": [
    {
     "name": "stdout",
     "output_type": "stream",
     "text": [
      "Trace of the matrix: 9\n"
     ]
    }
   ],
   "source": [
    "# Create a 2D array\n",
    "matrix = [\n",
    "    [2, 1, 1],\n",
    "    [1, 3, 2],\n",
    "    [1, 2, 4]\n",
    "]\n",
    "\n",
    "# Calculate the trace of the matrix (sum of diagonal elements)\n",
    "trace = sum(matrix[i][i] for i in range(len(matrix)))\n",
    "\n",
    "print(\"Trace of the matrix:\", trace)"
   ]
  },
  {
   "cell_type": "markdown",
   "id": "b2425cec",
   "metadata": {},
   "source": [
    "# Check for Sparse Matrix"
   ]
  },
  {
   "cell_type": "code",
   "execution_count": 18,
   "id": "b2b80cf8",
   "metadata": {},
   "outputs": [
    {
     "name": "stdout",
     "output_type": "stream",
     "text": [
      "The matrix is sparse.\n"
     ]
    }
   ],
   "source": [
    "# Create a 2D array (sparse matrix)\n",
    "matrix = [\n",
    "    [0, 0, 3],\n",
    "    [0, 0, 0],\n",
    "    [7, 0, 0]\n",
    "]\n",
    "\n",
    "# Count zero and non-zero elements\n",
    "zero_count = sum(row.count(0) for row in matrix)\n",
    "non_zero_count = sum(row.count(0) == 0 for row in matrix)\n",
    "\n",
    "# Check if the matrix is sparse\n",
    "is_sparse = zero_count > non_zero_count\n",
    "\n",
    "if is_sparse:\n",
    "    print(\"The matrix is sparse.\")\n",
    "else:\n",
    "    print(\"The matrix is not sparse.\")"
   ]
  },
  {
   "cell_type": "markdown",
   "id": "bc456dc5",
   "metadata": {},
   "source": [
    "# Row-wise and Column-wise Mean of a 2D Array"
   ]
  },
  {
   "cell_type": "code",
   "execution_count": 19,
   "id": "24078906",
   "metadata": {},
   "outputs": [
    {
     "name": "stdout",
     "output_type": "stream",
     "text": [
      "Row-wise mean: [20.0, 50.0, 80.0]\n",
      "Column-wise mean: [40.0, 50.0, 60.0]\n"
     ]
    }
   ],
   "source": [
    "# Create a 2D array\n",
    "matrix = [\n",
    "    [10, 20, 30],\n",
    "    [40, 50, 60],\n",
    "    [70, 80, 90]\n",
    "]\n",
    "\n",
    "# Calculate row-wise mean\n",
    "row_wise_mean = [sum(row) / len(row) for row in matrix]\n",
    "\n",
    "# Calculate column-wise mean\n",
    "column_wise_mean = [sum(matrix[i][j] for i in range(len(matrix))) / len(matrix) for j in range(len(matrix[0]))]\n",
    "\n",
    "print(\"Row-wise mean:\", row_wise_mean)\n",
    "print(\"Column-wise mean:\", column_wise_mean)"
   ]
  },
  {
   "cell_type": "code",
   "execution_count": null,
   "id": "1babb0eb",
   "metadata": {},
   "outputs": [],
   "source": []
  }
 ],
 "metadata": {
  "kernelspec": {
   "display_name": "Python 3",
   "language": "python",
   "name": "python3"
  },
  "language_info": {
   "codemirror_mode": {
    "name": "ipython",
    "version": 3
   },
   "file_extension": ".py",
   "mimetype": "text/x-python",
   "name": "python",
   "nbconvert_exporter": "python",
   "pygments_lexer": "ipython3",
   "version": "3.6.13"
  }
 },
 "nbformat": 4,
 "nbformat_minor": 5
}
