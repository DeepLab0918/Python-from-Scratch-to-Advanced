{
 "cells": [
  {
   "cell_type": "markdown",
   "id": "e259a0e9",
   "metadata": {},
   "source": [
    "# A Simple Python Program"
   ]
  },
  {
   "cell_type": "code",
   "execution_count": 1,
   "id": "9d35d964",
   "metadata": {},
   "outputs": [
    {
     "name": "stdout",
     "output_type": "stream",
     "text": [
      "Hello, World!\n"
     ]
    }
   ],
   "source": [
    "print(\"Hello, World!\")"
   ]
  },
  {
   "cell_type": "markdown",
   "id": "f3d53172",
   "metadata": {},
   "source": [
    "# Variables and Data Types"
   ]
  },
  {
   "cell_type": "code",
   "execution_count": 9,
   "id": "655266c3",
   "metadata": {},
   "outputs": [
    {
     "name": "stdout",
     "output_type": "stream",
     "text": [
      "Name: Sameer, Age: 28, Height: 5.4\n"
     ]
    }
   ],
   "source": [
    "# Declare variables\n",
    "name = \"Sameer\"\n",
    "age = 28\n",
    "height = 5.4\n",
    "\n",
    "# Print variables\n",
    "print(f\"Name: {name}, Age: {age}, Height: {height}\")"
   ]
  },
  {
   "cell_type": "markdown",
   "id": "11cc273c",
   "metadata": {},
   "source": [
    "# Basic Arithmetic Operations"
   ]
  },
  {
   "cell_type": "code",
   "execution_count": 3,
   "id": "548852f8",
   "metadata": {},
   "outputs": [
    {
     "name": "stdout",
     "output_type": "stream",
     "text": [
      "Sum: 13, Difference: 7, Product: 30, Quotient: 3.3333333333333335, Modulus: 1\n"
     ]
    }
   ],
   "source": [
    "a = 10\n",
    "b = 3\n",
    "\n",
    "# Perform arithmetic operations\n",
    "sum_ab = a + b\n",
    "diff_ab = a - b\n",
    "prod_ab = a * b\n",
    "quot_ab = a / b\n",
    "mod_ab = a % b\n",
    "\n",
    "print(f\"Sum: {sum_ab}, Difference: {diff_ab}, Product: {prod_ab}, Quotient: {quot_ab}, Modulus: {mod_ab}\")"
   ]
  },
  {
   "cell_type": "markdown",
   "id": "a1e5e85b",
   "metadata": {},
   "source": [
    "# Conditional Statements"
   ]
  },
  {
   "cell_type": "code",
   "execution_count": 4,
   "id": "4f15725d",
   "metadata": {},
   "outputs": [
    {
     "name": "stdout",
     "output_type": "stream",
     "text": [
      "Positive number\n"
     ]
    }
   ],
   "source": [
    "num = 15\n",
    "\n",
    "if num > 0:\n",
    "    print(\"Positive number\")\n",
    "elif num == 0:\n",
    "    print(\"Zero\")\n",
    "else:\n",
    "    print(\"Negative number\")"
   ]
  },
  {
   "cell_type": "markdown",
   "id": "eb8bc100",
   "metadata": {},
   "source": [
    "# Loops: for Loop"
   ]
  },
  {
   "cell_type": "code",
   "execution_count": 5,
   "id": "dc405184",
   "metadata": {},
   "outputs": [
    {
     "name": "stdout",
     "output_type": "stream",
     "text": [
      "1\n",
      "2\n",
      "3\n",
      "4\n",
      "5\n"
     ]
    }
   ],
   "source": [
    "# Print numbers 1 to 5 using a for loop\n",
    "for i in range(1, 6):\n",
    "    print(i)"
   ]
  },
  {
   "cell_type": "markdown",
   "id": "8e54d790",
   "metadata": {},
   "source": [
    "# Loops: while Loop"
   ]
  },
  {
   "cell_type": "code",
   "execution_count": 6,
   "id": "a920a44d",
   "metadata": {},
   "outputs": [
    {
     "name": "stdout",
     "output_type": "stream",
     "text": [
      "1\n",
      "2\n",
      "3\n",
      "4\n",
      "5\n"
     ]
    }
   ],
   "source": [
    "# Print numbers 1 to 5 using a while loop\n",
    "i = 1\n",
    "while i <= 5:\n",
    "    print(i)\n",
    "    i += 1"
   ]
  },
  {
   "cell_type": "markdown",
   "id": "293d8047",
   "metadata": {},
   "source": [
    "# Functions"
   ]
  },
  {
   "cell_type": "code",
   "execution_count": 8,
   "id": "120af016",
   "metadata": {},
   "outputs": [
    {
     "name": "stdout",
     "output_type": "stream",
     "text": [
      "Hello, Sameer!\n"
     ]
    }
   ],
   "source": [
    "# Define a function\n",
    "def greet(name):\n",
    "    return f\"Hello, {name}!\"\n",
    "\n",
    "# Call the function\n",
    "message = greet(\"Sameer\")\n",
    "print(message)"
   ]
  },
  {
   "cell_type": "markdown",
   "id": "ba103941",
   "metadata": {},
   "source": [
    "# Lists"
   ]
  },
  {
   "cell_type": "code",
   "execution_count": 10,
   "id": "be144331",
   "metadata": {},
   "outputs": [
    {
     "name": "stdout",
     "output_type": "stream",
     "text": [
      "Apple\n",
      "Cherry\n",
      "['Apple', 'Banana', 'Cherry', 'Date']\n"
     ]
    }
   ],
   "source": [
    "# Create a list of fruits\n",
    "fruits = [\"Apple\", \"Banana\", \"Cherry\"]\n",
    "\n",
    "# Access elements\n",
    "print(fruits[0])  # First element\n",
    "print(fruits[-1])  # Last element\n",
    "\n",
    "# Add an element\n",
    "fruits.append(\"Date\")\n",
    "\n",
    "# Print the updated list\n",
    "print(fruits)"
   ]
  },
  {
   "cell_type": "markdown",
   "id": "fae45c07",
   "metadata": {},
   "source": [
    "# Dictionaries"
   ]
  },
  {
   "cell_type": "code",
   "execution_count": 11,
   "id": "d6392c9e",
   "metadata": {},
   "outputs": [
    {
     "name": "stdout",
     "output_type": "stream",
     "text": [
      "Sam\n",
      "28\n",
      "{'name': 'Sam', 'age': 28, 'major': 'Image Processing', 'GPA': 3.8}\n"
     ]
    }
   ],
   "source": [
    "# Create a dictionary\n",
    "student = {\"name\": \"Sam\", \"age\": 28, \"major\": \"Image Processing\"}\n",
    "\n",
    "# Access dictionary values\n",
    "print(student[\"name\"])\n",
    "print(student.get(\"age\"))\n",
    "\n",
    "# Add a new key-value pair\n",
    "student[\"GPA\"] = 3.8\n",
    "\n",
    "# Print the updated dictionary\n",
    "print(student)\n"
   ]
  },
  {
   "cell_type": "markdown",
   "id": "dfcab317",
   "metadata": {},
   "source": [
    "# File Handling"
   ]
  },
  {
   "cell_type": "code",
   "execution_count": 13,
   "id": "dbcf5f45",
   "metadata": {},
   "outputs": [
    {
     "name": "stdout",
     "output_type": "stream",
     "text": [
      "Hello, Everyone to my Deep Lab\n",
      "This is a file.\n"
     ]
    }
   ],
   "source": [
    "# Write to a file\n",
    "with open(\"example.txt\", \"w\") as file:\n",
    "    file.write(\"Hello, Everyone to my Deep Lab\\nThis is a file.\")\n",
    "\n",
    "# Read from a file\n",
    "with open(\"example.txt\", \"r\") as file:\n",
    "    content = file.read()\n",
    "    print(content)"
   ]
  },
  {
   "cell_type": "code",
   "execution_count": null,
   "id": "c12d9f1b",
   "metadata": {},
   "outputs": [],
   "source": []
  }
 ],
 "metadata": {
  "kernelspec": {
   "display_name": "Python 3",
   "language": "python",
   "name": "python3"
  },
  "language_info": {
   "codemirror_mode": {
    "name": "ipython",
    "version": 3
   },
   "file_extension": ".py",
   "mimetype": "text/x-python",
   "name": "python",
   "nbconvert_exporter": "python",
   "pygments_lexer": "ipython3",
   "version": "3.6.13"
  }
 },
 "nbformat": 4,
 "nbformat_minor": 5
}
