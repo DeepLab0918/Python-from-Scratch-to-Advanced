{
 "cells": [
  {
   "cell_type": "markdown",
   "id": "bff81c81",
   "metadata": {},
   "source": [
    "# Taking User Input"
   ]
  },
  {
   "cell_type": "code",
   "execution_count": 1,
   "id": "1b3b35e2",
   "metadata": {},
   "outputs": [
    {
     "name": "stdout",
     "output_type": "stream",
     "text": [
      "Enter your name: Sameer\n",
      "Enter your age: 28\n",
      "Hello, Sameer! You are 28 years old.\n"
     ]
    }
   ],
   "source": [
    "# Taking user input for name and age\n",
    "name = input(\"Enter your name: \")\n",
    "age = input(\"Enter your age: \")\n",
    "\n",
    "print(f\"Hello, {name}! You are {age} years old.\")"
   ]
  },
  {
   "cell_type": "markdown",
   "id": "6fbeead6",
   "metadata": {},
   "source": [
    "# Simple Calculator"
   ]
  },
  {
   "cell_type": "code",
   "execution_count": 2,
   "id": "787d7d00",
   "metadata": {},
   "outputs": [
    {
     "name": "stdout",
     "output_type": "stream",
     "text": [
      "Enter first number: 26\n",
      "Enter second number: 20\n",
      "The sum of 26.0 and 20.0 is 46.0.\n"
     ]
    }
   ],
   "source": [
    "# Simple calculator to add two numbers\n",
    "num1 = float(input(\"Enter first number: \"))\n",
    "num2 = float(input(\"Enter second number: \"))\n",
    "\n",
    "# Adding the two numbers\n",
    "result = num1 + num2\n",
    "\n",
    "print(f\"The sum of {num1} and {num2} is {result}.\")"
   ]
  },
  {
   "cell_type": "markdown",
   "id": "0d11274e",
   "metadata": {},
   "source": [
    "# Using if-else for Even or Odd"
   ]
  },
  {
   "cell_type": "code",
   "execution_count": 3,
   "id": "e53cc983",
   "metadata": {},
   "outputs": [
    {
     "name": "stdout",
     "output_type": "stream",
     "text": [
      "Enter a number: 18\n",
      "18 is an even number.\n"
     ]
    }
   ],
   "source": [
    "# Check if a number is even or odd\n",
    "num = int(input(\"Enter a number: \"))\n",
    "\n",
    "if num % 2 == 0:\n",
    "    print(f\"{num} is an even number.\")\n",
    "else:\n",
    "    print(f\"{num} is an odd number.\")"
   ]
  },
  {
   "cell_type": "markdown",
   "id": "0ad719f1",
   "metadata": {},
   "source": [
    "# Sum of First n Natural Numbers"
   ]
  },
  {
   "cell_type": "code",
   "execution_count": 4,
   "id": "715e3faa",
   "metadata": {},
   "outputs": [
    {
     "name": "stdout",
     "output_type": "stream",
     "text": [
      "Enter a positive integer: 15\n",
      "The sum of the first 15 natural numbers is 120.0.\n"
     ]
    }
   ],
   "source": [
    "# Calculate the sum of the first 'n' natural numbers\n",
    "n = int(input(\"Enter a positive integer: \"))\n",
    "\n",
    "sum_n = n * (n + 1) / 2\n",
    "\n",
    "print(f\"The sum of the first {n} natural numbers is {sum_n}.\")"
   ]
  },
  {
   "cell_type": "markdown",
   "id": "18383450",
   "metadata": {},
   "source": [
    "# Factorial of a Number"
   ]
  },
  {
   "cell_type": "code",
   "execution_count": 5,
   "id": "1d6b1549",
   "metadata": {},
   "outputs": [
    {
     "name": "stdout",
     "output_type": "stream",
     "text": [
      "Enter a number: 5\n",
      "The factorial of 5 is 120.\n"
     ]
    }
   ],
   "source": [
    "# Calculate the factorial of a number using a for loop\n",
    "num = int(input(\"Enter a number: \"))\n",
    "factorial = 1\n",
    "\n",
    "for i in range(1, num + 1):\n",
    "    factorial *= i\n",
    "\n",
    "print(f\"The factorial of {num} is {factorial}.\")"
   ]
  },
  {
   "cell_type": "markdown",
   "id": "7343d8f9",
   "metadata": {},
   "source": [
    "# Find the Largest of Three Numbers"
   ]
  },
  {
   "cell_type": "code",
   "execution_count": 6,
   "id": "ef5532d7",
   "metadata": {},
   "outputs": [
    {
     "name": "stdout",
     "output_type": "stream",
     "text": [
      "Enter the first number: 15\n",
      "Enter the second number: 12\n",
      "Enter the third number: 45\n",
      "The largest number is 45.\n"
     ]
    }
   ],
   "source": [
    "# Program to find the largest of three numbers\n",
    "a = int(input(\"Enter the first number: \"))\n",
    "b = int(input(\"Enter the second number: \"))\n",
    "c = int(input(\"Enter the third number: \"))\n",
    "\n",
    "if a >= b and a >= c:\n",
    "    largest = a\n",
    "elif b >= a and b >= c:\n",
    "    largest = b\n",
    "else:\n",
    "    largest = c\n",
    "\n",
    "print(f\"The largest number is {largest}.\")"
   ]
  },
  {
   "cell_type": "markdown",
   "id": "a4ab6d66",
   "metadata": {},
   "source": [
    "# Count Vowels in a String"
   ]
  },
  {
   "cell_type": "code",
   "execution_count": 7,
   "id": "49851983",
   "metadata": {},
   "outputs": [
    {
     "name": "stdout",
     "output_type": "stream",
     "text": [
      "Enter a string: DeepLab\n",
      "The number of vowels in the string is 3.\n"
     ]
    }
   ],
   "source": [
    "# Count the number of vowels in a string\n",
    "string = input(\"Enter a string: \")\n",
    "vowels = \"aeiouAEIOU\"\n",
    "count = 0\n",
    "\n",
    "for char in string:\n",
    "    if char in vowels:\n",
    "        count += 1\n",
    "\n",
    "print(f\"The number of vowels in the string is {count}.\")"
   ]
  },
  {
   "cell_type": "markdown",
   "id": "3d5bc2bb",
   "metadata": {},
   "source": [
    "# Reversing a String"
   ]
  },
  {
   "cell_type": "code",
   "execution_count": 8,
   "id": "a0bd9e0e",
   "metadata": {},
   "outputs": [
    {
     "name": "stdout",
     "output_type": "stream",
     "text": [
      "Enter a string: DeepLab\n",
      "The reversed string is: baLpeeD\n"
     ]
    }
   ],
   "source": [
    "# Reverse a string entered by the user\n",
    "string = input(\"Enter a string: \")\n",
    "reversed_string = string[::-1]\n",
    "\n",
    "print(f\"The reversed string is: {reversed_string}\")"
   ]
  },
  {
   "cell_type": "markdown",
   "id": "0581dccd",
   "metadata": {},
   "source": [
    "# Palindrome Check"
   ]
  },
  {
   "cell_type": "code",
   "execution_count": 9,
   "id": "2b134866",
   "metadata": {},
   "outputs": [
    {
     "name": "stdout",
     "output_type": "stream",
     "text": [
      "Enter a string: sameer\n",
      "sameer is not a palindrome.\n"
     ]
    }
   ],
   "source": [
    "# Check if a string is a palindrome\n",
    "string = input(\"Enter a string: \")\n",
    "\n",
    "if string == string[::-1]:\n",
    "    print(f\"{string} is a palindrome.\")\n",
    "else:\n",
    "    print(f\"{string} is not a palindrome.\")"
   ]
  },
  {
   "cell_type": "markdown",
   "id": "98154a60",
   "metadata": {},
   "source": [
    "# Generate a Multiplication Table"
   ]
  },
  {
   "cell_type": "code",
   "execution_count": 10,
   "id": "f3279eb8",
   "metadata": {},
   "outputs": [
    {
     "name": "stdout",
     "output_type": "stream",
     "text": [
      "Enter a number: 5\n",
      "5 x 1 = 5\n",
      "5 x 2 = 10\n",
      "5 x 3 = 15\n",
      "5 x 4 = 20\n",
      "5 x 5 = 25\n",
      "5 x 6 = 30\n",
      "5 x 7 = 35\n",
      "5 x 8 = 40\n",
      "5 x 9 = 45\n",
      "5 x 10 = 50\n"
     ]
    }
   ],
   "source": [
    "# Generate a multiplication table for a given number\n",
    "num = int(input(\"Enter a number: \"))\n",
    "\n",
    "for i in range(1, 11):\n",
    "    print(f\"{num} x {i} = {num * i}\")"
   ]
  },
  {
   "cell_type": "code",
   "execution_count": null,
   "id": "149f0ef2",
   "metadata": {},
   "outputs": [],
   "source": []
  }
 ],
 "metadata": {
  "kernelspec": {
   "display_name": "Python 3",
   "language": "python",
   "name": "python3"
  },
  "language_info": {
   "codemirror_mode": {
    "name": "ipython",
    "version": 3
   },
   "file_extension": ".py",
   "mimetype": "text/x-python",
   "name": "python",
   "nbconvert_exporter": "python",
   "pygments_lexer": "ipython3",
   "version": "3.6.13"
  }
 },
 "nbformat": 4,
 "nbformat_minor": 5
}
