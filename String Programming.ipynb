{
 "cells": [
  {
   "cell_type": "markdown",
   "id": "3bf7bd93",
   "metadata": {},
   "source": [
    "# Reverse a String"
   ]
  },
  {
   "cell_type": "code",
   "execution_count": 1,
   "id": "34847980",
   "metadata": {},
   "outputs": [
    {
     "name": "stdout",
     "output_type": "stream",
     "text": [
      "Reversed string: !baLpeeD ot emocleW ,olleH\n"
     ]
    }
   ],
   "source": [
    "# Input string\n",
    "string = \"Hello, Welcome to DeepLab!\"\n",
    "\n",
    "# Reverse the string\n",
    "reversed_string = string[::-1]\n",
    "\n",
    "print(\"Reversed string:\", reversed_string)\n"
   ]
  },
  {
   "cell_type": "markdown",
   "id": "41fbd980",
   "metadata": {},
   "source": [
    "# Check if a String is a Palindrome"
   ]
  },
  {
   "cell_type": "code",
   "execution_count": 2,
   "id": "f22f4a79",
   "metadata": {},
   "outputs": [
    {
     "name": "stdout",
     "output_type": "stream",
     "text": [
      "'madam' is a palindrome.\n"
     ]
    }
   ],
   "source": [
    "# Input string\n",
    "string = \"madam\"\n",
    "\n",
    "# Check if the string is a palindrome\n",
    "is_palindrome = string == string[::-1]\n",
    "\n",
    "if is_palindrome:\n",
    "    print(f\"'{string}' is a palindrome.\")\n",
    "else:\n",
    "    print(f\"'{string}' is not a palindrome.\")"
   ]
  },
  {
   "cell_type": "markdown",
   "id": "6411b08c",
   "metadata": {},
   "source": [
    "# Count Vowels in a String"
   ]
  },
  {
   "cell_type": "code",
   "execution_count": 3,
   "id": "01b55f50",
   "metadata": {},
   "outputs": [
    {
     "name": "stdout",
     "output_type": "stream",
     "text": [
      "Number of vowels: 7\n"
     ]
    }
   ],
   "source": [
    "# Input string\n",
    "string = \"DeepLab is amazing!\"\n",
    "\n",
    "# Count vowels in the string\n",
    "vowels = \"aeiouAEIOU\"\n",
    "vowel_count = sum(1 for char in string if char in vowels)\n",
    "\n",
    "print(\"Number of vowels:\", vowel_count)\n"
   ]
  },
  {
   "cell_type": "markdown",
   "id": "bc5186a3",
   "metadata": {},
   "source": [
    "# Find the Frequency of Each Character in a String"
   ]
  },
  {
   "cell_type": "code",
   "execution_count": 4,
   "id": "5322557b",
   "metadata": {},
   "outputs": [
    {
     "name": "stdout",
     "output_type": "stream",
     "text": [
      "Character frequency: Counter({'a': 5, 'b': 2, 'r': 2, 'c': 1, 'd': 1})\n"
     ]
    }
   ],
   "source": [
    "from collections import Counter\n",
    "\n",
    "# Input string\n",
    "string = \"abracadabra\"\n",
    "\n",
    "# Find the frequency of each character\n",
    "frequency = Counter(string)\n",
    "\n",
    "print(\"Character frequency:\", frequency)"
   ]
  },
  {
   "cell_type": "markdown",
   "id": "8e266417",
   "metadata": {},
   "source": [
    "# Check if Two Strings are Anagrams"
   ]
  },
  {
   "cell_type": "code",
   "execution_count": 5,
   "id": "7e35eecb",
   "metadata": {},
   "outputs": [
    {
     "name": "stdout",
     "output_type": "stream",
     "text": [
      "'listen' and 'silent' are anagrams.\n"
     ]
    }
   ],
   "source": [
    "# Input strings\n",
    "string1 = \"listen\"\n",
    "string2 = \"silent\"\n",
    "\n",
    "# Check if the strings are anagrams\n",
    "is_anagram = sorted(string1) == sorted(string2)\n",
    "\n",
    "if is_anagram:\n",
    "    print(f\"'{string1}' and '{string2}' are anagrams.\")\n",
    "else:\n",
    "    print(f\"'{string1}' and '{string2}' are not anagrams.\")\n"
   ]
  },
  {
   "cell_type": "markdown",
   "id": "be13e08e",
   "metadata": {},
   "source": [
    "# Find the First Non-Repeating Character in a String"
   ]
  },
  {
   "cell_type": "code",
   "execution_count": 6,
   "id": "7134ddf9",
   "metadata": {},
   "outputs": [
    {
     "name": "stdout",
     "output_type": "stream",
     "text": [
      "First non-repeating character: w\n"
     ]
    }
   ],
   "source": [
    "# Input string\n",
    "string = \"swiss\"\n",
    "\n",
    "# Find the first non-repeating character\n",
    "non_repeating = None\n",
    "for char in string:\n",
    "    if string.count(char) == 1:\n",
    "        non_repeating = char\n",
    "        break\n",
    "\n",
    "if non_repeating:\n",
    "    print(\"First non-repeating character:\", non_repeating)\n",
    "else:\n",
    "    print(\"No non-repeating character found.\")\n"
   ]
  },
  {
   "cell_type": "markdown",
   "id": "ad690c90",
   "metadata": {},
   "source": [
    "# Convert a String to Title Case"
   ]
  },
  {
   "cell_type": "code",
   "execution_count": 7,
   "id": "0e79065d",
   "metadata": {},
   "outputs": [
    {
     "name": "stdout",
     "output_type": "stream",
     "text": [
      "Title case string: Python Programming Is Fun\n"
     ]
    }
   ],
   "source": [
    "# Input string\n",
    "string = \"python programming is fun\"\n",
    "\n",
    "# Convert to title case\n",
    "title_case = string.title()\n",
    "\n",
    "print(\"Title case string:\", title_case)\n"
   ]
  },
  {
   "cell_type": "markdown",
   "id": "9e62b288",
   "metadata": {},
   "source": [
    "# Remove All Whitespaces from a String"
   ]
  },
  {
   "cell_type": "code",
   "execution_count": 8,
   "id": "ba1e308c",
   "metadata": {},
   "outputs": [
    {
     "name": "stdout",
     "output_type": "stream",
     "text": [
      "String with no whitespaces: HelloWorld\n"
     ]
    }
   ],
   "source": [
    "# Input string\n",
    "string = \"  Hello   World  \"\n",
    "\n",
    "# Remove all whitespaces\n",
    "no_whitespace = string.replace(\" \", \"\")\n",
    "\n",
    "print(\"String with no whitespaces:\", no_whitespace)\n"
   ]
  },
  {
   "cell_type": "markdown",
   "id": "85bbf5f2",
   "metadata": {},
   "source": [
    "# Replace All Occurrences of a Substring in a String"
   ]
  },
  {
   "cell_type": "code",
   "execution_count": 9,
   "id": "1c80e492",
   "metadata": {},
   "outputs": [
    {
     "name": "stdout",
     "output_type": "stream",
     "text": [
      "Modified string: I like bananas. Apples are my favorite fruit.\n"
     ]
    }
   ],
   "source": [
    "# Input string\n",
    "string = \"I like apples. Apples are my favorite fruit.\"\n",
    "\n",
    "# Replace 'apples' with 'bananas'\n",
    "replaced_string = string.replace(\"apples\", \"bananas\")\n",
    "\n",
    "print(\"Modified string:\", replaced_string)\n"
   ]
  },
  {
   "cell_type": "markdown",
   "id": "16825b14",
   "metadata": {},
   "source": [
    "# Split a String into a List of Words"
   ]
  },
  {
   "cell_type": "code",
   "execution_count": 10,
   "id": "3b12b5cd",
   "metadata": {},
   "outputs": [
    {
     "name": "stdout",
     "output_type": "stream",
     "text": [
      "List of words: ['Python', 'is', 'a', 'powerful', 'programming', 'language.']\n"
     ]
    }
   ],
   "source": [
    "# Input string\n",
    "string = \"Python is a powerful programming language.\"\n",
    "\n",
    "# Split the string into a list of words\n",
    "words = string.split()\n",
    "\n",
    "print(\"List of words:\", words)\n"
   ]
  },
  {
   "cell_type": "markdown",
   "id": "374ed90e",
   "metadata": {},
   "source": [
    "# Concatenate Two Strings"
   ]
  },
  {
   "cell_type": "code",
   "execution_count": 11,
   "id": "68cedfe7",
   "metadata": {},
   "outputs": [
    {
     "name": "stdout",
     "output_type": "stream",
     "text": [
      "Concatenated string: Hello World\n"
     ]
    }
   ],
   "source": [
    "# Input strings\n",
    "string1 = \"Hello\"\n",
    "string2 = \"World\"\n",
    "\n",
    "# Concatenate the strings\n",
    "concatenated_string = string1 + \" \" + string2\n",
    "\n",
    "print(\"Concatenated string:\", concatenated_string)\n"
   ]
  },
  {
   "cell_type": "markdown",
   "id": "803aeb7c",
   "metadata": {},
   "source": [
    "# Find the Length of a String"
   ]
  },
  {
   "cell_type": "code",
   "execution_count": 12,
   "id": "958e7ace",
   "metadata": {},
   "outputs": [
    {
     "name": "stdout",
     "output_type": "stream",
     "text": [
      "Length of the string: 7\n"
     ]
    }
   ],
   "source": [
    "# Input string\n",
    "string = \"DeepLab\"\n",
    "\n",
    "# Find the length of the string\n",
    "length = len(string)\n",
    "\n",
    "print(\"Length of the string:\", length)\n"
   ]
  },
  {
   "cell_type": "markdown",
   "id": "27b80c68",
   "metadata": {},
   "source": [
    "# Convert String to Uppercase and Lowercase"
   ]
  },
  {
   "cell_type": "code",
   "execution_count": 13,
   "id": "a15dde77",
   "metadata": {},
   "outputs": [
    {
     "name": "stdout",
     "output_type": "stream",
     "text": [
      "Uppercase string: PYTHON PROGRAMMING\n",
      "Lowercase string: python programming\n"
     ]
    }
   ],
   "source": [
    "# Input string\n",
    "string = \"Python Programming\"\n",
    "\n",
    "# Convert to uppercase\n",
    "uppercase_string = string.upper()\n",
    "\n",
    "# Convert to lowercase\n",
    "lowercase_string = string.lower()\n",
    "\n",
    "print(\"Uppercase string:\", uppercase_string)\n",
    "print(\"Lowercase string:\", lowercase_string)"
   ]
  },
  {
   "cell_type": "markdown",
   "id": "253417e6",
   "metadata": {},
   "source": [
    "# Count the Occurrences of a Substring in a String"
   ]
  },
  {
   "cell_type": "code",
   "execution_count": 14,
   "id": "e541ff49",
   "metadata": {},
   "outputs": [
    {
     "name": "stdout",
     "output_type": "stream",
     "text": [
      "Number of occurrences of 'a': 3\n"
     ]
    }
   ],
   "source": [
    "# Input string\n",
    "string = \"banana\"\n",
    "\n",
    "# Count the occurrences of 'a'\n",
    "count_a = string.count('a')\n",
    "\n",
    "print(\"Number of occurrences of 'a':\", count_a)"
   ]
  },
  {
   "cell_type": "markdown",
   "id": "62aeb621",
   "metadata": {},
   "source": [
    "# Find the Position of a Substring in a String"
   ]
  },
  {
   "cell_type": "code",
   "execution_count": 15,
   "id": "82bd10b3",
   "metadata": {},
   "outputs": [
    {
     "name": "stdout",
     "output_type": "stream",
     "text": [
      "The substring 'programming' starts at index 7.\n"
     ]
    }
   ],
   "source": [
    "# Input string\n",
    "string = \"Python programming is fun.\"\n",
    "\n",
    "# Find the position of the substring 'programming'\n",
    "position = string.find('programming')\n",
    "\n",
    "if position != -1:\n",
    "    print(f\"The substring 'programming' starts at index {position}.\")\n",
    "else:\n",
    "    print(\"Substring not found.\")"
   ]
  },
  {
   "cell_type": "markdown",
   "id": "2d8deb86",
   "metadata": {},
   "source": [
    "# Check if a String Contains Only Digits"
   ]
  },
  {
   "cell_type": "code",
   "execution_count": 16,
   "id": "8174e90b",
   "metadata": {},
   "outputs": [
    {
     "name": "stdout",
     "output_type": "stream",
     "text": [
      "'123abc456' does not contain only digits.\n"
     ]
    }
   ],
   "source": [
    "# Input string\n",
    "string = \"123abc456\"\n",
    "\n",
    "# Check if the string contains only digits\n",
    "is_digit = string.isdigit()\n",
    "\n",
    "if is_digit:\n",
    "    print(f\"'{string}' contains only digits.\")\n",
    "else:\n",
    "    print(f\"'{string}' does not contain only digits.\")"
   ]
  },
  {
   "cell_type": "markdown",
   "id": "edf50de1",
   "metadata": {},
   "source": [
    "# Check if a String Contains Only Alphabets"
   ]
  },
  {
   "cell_type": "code",
   "execution_count": 17,
   "id": "fc54c632",
   "metadata": {},
   "outputs": [
    {
     "name": "stdout",
     "output_type": "stream",
     "text": [
      "'HelloWorld' contains only alphabets.\n"
     ]
    }
   ],
   "source": [
    "# Input string\n",
    "string = \"HelloWorld\"\n",
    "\n",
    "# Check if the string contains only alphabets\n",
    "is_alpha = string.isalpha()\n",
    "\n",
    "if is_alpha:\n",
    "    print(f\"'{string}' contains only alphabets.\")\n",
    "else:\n",
    "    print(f\"'{string}' does not contain only alphabets.\")"
   ]
  },
  {
   "cell_type": "markdown",
   "id": "2f05e607",
   "metadata": {},
   "source": [
    "# Convert a String to a List of Characters"
   ]
  },
  {
   "cell_type": "code",
   "execution_count": 18,
   "id": "66fe7c52",
   "metadata": {},
   "outputs": [
    {
     "name": "stdout",
     "output_type": "stream",
     "text": [
      "List of characters: ['D', 'e', 'e', 'p', 'L', 'a', 'b']\n"
     ]
    }
   ],
   "source": [
    "# Input string\n",
    "string = \"DeepLab\"\n",
    "\n",
    "# Convert the string to a list of characters\n",
    "char_list = list(string)\n",
    "\n",
    "print(\"List of characters:\", char_list)"
   ]
  },
  {
   "cell_type": "markdown",
   "id": "cdb5a437",
   "metadata": {},
   "source": [
    "# Remove a Specific Character from a String"
   ]
  },
  {
   "cell_type": "code",
   "execution_count": 19,
   "id": "fdf46b7c",
   "metadata": {},
   "outputs": [
    {
     "name": "stdout",
     "output_type": "stream",
     "text": [
      "String after removal of 'l': Heo, Word!\n"
     ]
    }
   ],
   "source": [
    "# Input string\n",
    "string = \"Hello, World!\"\n",
    "\n",
    "# Remove all occurrences of the character 'l'\n",
    "modified_string = string.replace('l', '')\n",
    "\n",
    "print(\"String after removal of 'l':\", modified_string)"
   ]
  },
  {
   "cell_type": "markdown",
   "id": "b608055b",
   "metadata": {},
   "source": [
    "# Check if a String Starts or Ends with a Specific Substring"
   ]
  },
  {
   "cell_type": "code",
   "execution_count": 20,
   "id": "bf63a7d2",
   "metadata": {},
   "outputs": [
    {
     "name": "stdout",
     "output_type": "stream",
     "text": [
      "Starts with 'Python': True\n",
      "Ends with 'fun.': True\n"
     ]
    }
   ],
   "source": [
    "# Input string\n",
    "string = \"Python is fun.\"\n",
    "\n",
    "# Check if the string starts with 'Python'\n",
    "starts_with_python = string.startswith('Python')\n",
    "\n",
    "# Check if the string ends with 'fun.'\n",
    "ends_with_fun = string.endswith('fun.')\n",
    "\n",
    "print(\"Starts with 'Python':\", starts_with_python)\n",
    "print(\"Ends with 'fun.':\", ends_with_fun)"
   ]
  },
  {
   "cell_type": "code",
   "execution_count": null,
   "id": "4d2d3547",
   "metadata": {},
   "outputs": [],
   "source": []
  }
 ],
 "metadata": {
  "kernelspec": {
   "display_name": "Python 3",
   "language": "python",
   "name": "python3"
  },
  "language_info": {
   "codemirror_mode": {
    "name": "ipython",
    "version": 3
   },
   "file_extension": ".py",
   "mimetype": "text/x-python",
   "name": "python",
   "nbconvert_exporter": "python",
   "pygments_lexer": "ipython3",
   "version": "3.6.13"
  }
 },
 "nbformat": 4,
 "nbformat_minor": 5
}
